{
 "cells": [
  {
   "cell_type": "code",
   "execution_count": null,
   "id": "237d249c",
   "metadata": {},
   "outputs": [],
   "source": [
    "%matplotlib inline"
   ]
  },
  {
   "cell_type": "code",
   "execution_count": null,
   "id": "940a3b5a",
   "metadata": {},
   "outputs": [],
   "source": [
    "import matplotlib.pyplot as plt\n",
    "import numpy as np\n",
    "import pandas as pd\n",
    "import statistics as st"
   ]
  },
  {
   "cell_type": "code",
   "execution_count": null,
   "id": "10eff1bc",
   "metadata": {},
   "outputs": [],
   "source": [
    "# Read the csv files\n",
    "city_file_to_load = pd.read_csv(\"Resources/city_data.csv\")\n",
    "ride_file_to_load = pd.read_csv(\"Resources/ride_data.csv\")"
   ]
  },
  {
   "cell_type": "code",
   "execution_count": null,
   "id": "88c0ea57",
   "metadata": {},
   "outputs": [],
   "source": [
    "# Create a pandas DataFrame for city data\n",
    "city_data_df = pd.DataFrame(city_file_to_load)\n",
    "city_data_df"
   ]
  },
  {
   "cell_type": "code",
   "execution_count": null,
   "id": "a1c6df6b",
   "metadata": {},
   "outputs": [],
   "source": [
    "# Check for any data anomaly\n",
    "city_data_df.isnull().sum()"
   ]
  },
  {
   "cell_type": "code",
   "execution_count": null,
   "id": "664382f8",
   "metadata": {},
   "outputs": [],
   "source": [
    "city_data_df.count()"
   ]
  },
  {
   "cell_type": "code",
   "execution_count": null,
   "id": "08e38854",
   "metadata": {},
   "outputs": [],
   "source": [
    "# Check the datatypes of each column\n",
    "city_data_df.dtypes"
   ]
  },
  {
   "cell_type": "code",
   "execution_count": null,
   "id": "1016a3d2",
   "metadata": {},
   "outputs": [],
   "source": [
    "city_data_df.describe()"
   ]
  },
  {
   "cell_type": "code",
   "execution_count": null,
   "id": "7f161c4a",
   "metadata": {},
   "outputs": [],
   "source": [
    "# Create a pandas DataFrame for ride data\n",
    "ride_data_df = pd.DataFrame(ride_file_to_load)\n",
    "ride_data_df.head(10)"
   ]
  },
  {
   "cell_type": "code",
   "execution_count": null,
   "id": "176456a1",
   "metadata": {},
   "outputs": [],
   "source": [
    "# Check for data anomaly\n",
    "ride_data_df.isnull().sum()"
   ]
  },
  {
   "cell_type": "code",
   "execution_count": null,
   "id": "b9a08477",
   "metadata": {},
   "outputs": [],
   "source": [
    "ride_data_df.count()"
   ]
  },
  {
   "cell_type": "code",
   "execution_count": null,
   "id": "c719b9df",
   "metadata": {},
   "outputs": [],
   "source": [
    "ride_data_df.dtypes"
   ]
  },
  {
   "cell_type": "code",
   "execution_count": null,
   "id": "9b03aede",
   "metadata": {},
   "outputs": [],
   "source": [
    "ride_data_df.describe()"
   ]
  },
  {
   "cell_type": "code",
   "execution_count": null,
   "id": "33127334",
   "metadata": {},
   "outputs": [],
   "source": [
    "# Finally, we'll check to see how many data points there are for each type of city.\n",
    "# Get unique values of the type of the city\n",
    "city_types_list = city_data_df[\"type\"].unique()\n",
    "city_types_list"
   ]
  },
  {
   "cell_type": "code",
   "execution_count": null,
   "id": "46b7ff20",
   "metadata": {},
   "outputs": [],
   "source": [
    "# Get the number of data points for the urban cities\n",
    "sum(city_data_df['type']=='Urban')"
   ]
  },
  {
   "cell_type": "code",
   "execution_count": null,
   "id": "12e3cad2",
   "metadata": {},
   "outputs": [],
   "source": [
    "# Get the number of data points for the suburban cities\n",
    "sum(city_data_df['type']=='Suburban')"
   ]
  },
  {
   "cell_type": "code",
   "execution_count": null,
   "id": "30dfd894",
   "metadata": {},
   "outputs": [],
   "source": [
    "# Get the number of data points for the Rural cities\n",
    "sum(city_data_df['type']=='Rural')\n"
   ]
  },
  {
   "cell_type": "code",
   "execution_count": null,
   "id": "57d77e95",
   "metadata": {
    "scrolled": true
   },
   "outputs": [],
   "source": [
    "# All the data looks good with no null values\n",
    "# Merge the two DataFrames\n",
    "pyber_data_df = pd.merge(ride_data_df, city_data_df, on = \"city\", how = \"left\")\n",
    "pyber_data_df.head()"
   ]
  },
  {
   "cell_type": "code",
   "execution_count": null,
   "id": "c005b027",
   "metadata": {},
   "outputs": [],
   "source": [
    "# Create three separate DataFrames, one for each type of city\n",
    "# Create the urban city DataFrame\n",
    "urban_city_df = pyber_data_df[(pyber_data_df[\"type\"]==\"Urban\")]\n",
    "urban_city_df.head()"
   ]
  },
  {
   "cell_type": "code",
   "execution_count": null,
   "id": "8b0c8090",
   "metadata": {},
   "outputs": [],
   "source": [
    "# Create the suburban city DataFrame\n",
    "suburban_city_df = pyber_data_df[(pyber_data_df[\"type\"]==\"Suburban\")]\n",
    "suburban_city_df.head()"
   ]
  },
  {
   "cell_type": "code",
   "execution_count": null,
   "id": "cd72dea9",
   "metadata": {},
   "outputs": [],
   "source": [
    "# Create the rural city DataFrame\n",
    "rural_city_df = pyber_data_df[(pyber_data_df[\"type\"]==\"Rural\")]\n",
    "rural_city_df.head()"
   ]
  },
  {
   "cell_type": "code",
   "execution_count": null,
   "id": "b4e90d49",
   "metadata": {},
   "outputs": [],
   "source": [
    "# Get the number of rides in each city for urban city type\n",
    "urban_rides_count = urban_city_df.groupby([\"city\"]).count()[\"ride_id\"]\n",
    "urban_rides_count.head()"
   ]
  },
  {
   "cell_type": "code",
   "execution_count": null,
   "id": "583f7e2e",
   "metadata": {},
   "outputs": [],
   "source": [
    "# Get the number of rides in each city for suburban city type\n",
    "suburban_rides_count = suburban_city_df.groupby([\"city\"]).count()[\"ride_id\"]\n",
    "suburban_rides_count.head()"
   ]
  },
  {
   "cell_type": "code",
   "execution_count": null,
   "id": "3cb81e1e",
   "metadata": {},
   "outputs": [],
   "source": [
    "# Get the number of rides in each city for rural city type\n",
    "rural_rides_count = rural_city_df.groupby([\"city\"]).count()[\"ride_id\"]\n",
    "rural_rides_count.head()"
   ]
  },
  {
   "cell_type": "code",
   "execution_count": null,
   "id": "22144cea",
   "metadata": {},
   "outputs": [],
   "source": [
    "# Get the average fare for urban city type\n",
    "urban_cities_fares = urban_city_df.groupby([\"city\"]).mean()[\"fare\"]\n",
    "urban_cities_fares.head()"
   ]
  },
  {
   "cell_type": "code",
   "execution_count": null,
   "id": "201ae489",
   "metadata": {},
   "outputs": [],
   "source": [
    "# Get the average fare for suburban city type\n",
    "suburban_cities_fares = suburban_city_df.groupby([\"city\"]).mean()[\"fare\"]\n",
    "suburban_cities_fares.head()"
   ]
  },
  {
   "cell_type": "code",
   "execution_count": null,
   "id": "b61e688e",
   "metadata": {},
   "outputs": [],
   "source": [
    "# Get the average fare for rural city type\n",
    "rural_cities_fares = rural_city_df.groupby([\"city\"]).mean()[\"fare\"]\n",
    "rural_cities_fares.head()"
   ]
  },
  {
   "cell_type": "code",
   "execution_count": 169,
   "id": "3618c468",
   "metadata": {},
   "outputs": [
    {
     "data": {
      "text/plain": [
       "city\n",
       "Amandaburgh        12.0\n",
       "Barajasview        26.0\n",
       "Carriemouth        52.0\n",
       "Christopherfurt    41.0\n",
       "Deanville          49.0\n",
       "Name: driver_count, dtype: float64"
      ]
     },
     "execution_count": 169,
     "metadata": {},
     "output_type": "execute_result"
    }
   ],
   "source": [
    "# Get the average driver count in each city for each city type\n",
    "# Get the urban driver count for each city\n",
    "urban_driver_count = urban_city_df.groupby([\"city\"])[\"driver_count\"].mean()\n",
    "urban_driver_count.head()"
   ]
  },
  {
   "cell_type": "code",
   "execution_count": null,
   "id": "34129f94",
   "metadata": {
    "scrolled": true
   },
   "outputs": [],
   "source": [
    "# Get the suburban driver count for each city\n",
    "suburban_driver_count = suburban_city_df.groupby([\"city\"])[\"driver_count\"].mean()\n",
    "suburban_driver_count.head()"
   ]
  },
  {
   "cell_type": "code",
   "execution_count": null,
   "id": "34902a94",
   "metadata": {},
   "outputs": [],
   "source": [
    "# Get the rural driver count for each city\n",
    "rural_driver_count = rural_city_df.groupby([\"city\"])[\"driver_count\"].mean()\n",
    "rural_driver_count.head()"
   ]
  },
  {
   "cell_type": "markdown",
   "id": "6f80e30c",
   "metadata": {},
   "source": [
    "## Create individual bubble plots for urban, suburban and rural cities"
   ]
  },
  {
   "cell_type": "code",
   "execution_count": null,
   "id": "d419faa9",
   "metadata": {},
   "outputs": [],
   "source": [
    "# Create a scatter plot for urban city type\n",
    "plt.scatter(urban_rides_count, urban_cities_fares, s=urban_driver_count*10, color=\"coral\", \n",
    "            alpha=0.8, linewidth=1, edgecolor=\"black\", label=\"Urban\")\n",
    "plt.xlabel(\"Total Number of Rides (per city)\")\n",
    "plt.ylabel(\"Average Fare ($)\")\n",
    "plt.title(\"PyBer Ride-Sharing Data (2019)\")\n",
    "plt.legend()\n",
    "plt.grid()\n",
    "plt.show()"
   ]
  },
  {
   "cell_type": "code",
   "execution_count": null,
   "id": "40402630",
   "metadata": {},
   "outputs": [],
   "source": [
    "# Create a scatter plot for suburban city type\n",
    "plt.scatter(suburban_rides_count, suburban_cities_fares, s=suburban_driver_count*10, color=\"skyblue\", \n",
    "            alpha=0.8, linewidth=1, edgecolor=\"black\", label=\"Suburban\")\n",
    "plt.xlabel(\"Total Number of Rides (per city)\")\n",
    "plt.ylabel(\"Average Fare ($)\")\n",
    "plt.title(\"PyBer Ride-Sharing Data (2019)\")\n",
    "plt.legend()\n",
    "plt.grid()\n",
    "plt.show()"
   ]
  },
  {
   "cell_type": "code",
   "execution_count": null,
   "id": "2fe922f8",
   "metadata": {},
   "outputs": [],
   "source": [
    "# create a scatter plot for rural city type\n",
    "#plt.subplots(figsize=(10,10))\n",
    "plt.scatter(rural_rides_count, rural_cities_fares, s=rural_driver_count*10, color=\"gold\", \n",
    "            alpha=0.8, linewidth=1, edgecolor=\"black\", label=\"Rural\")\n",
    "plt.xlabel(\"Total Number of Rides (per city)\")\n",
    "plt.ylabel(\"Average Fare ($)\")\n",
    "plt.title(\"PyBer Ride-Sharing Data (2019)\")\n",
    "plt.legend()\n",
    "plt.grid()\n",
    "plt.show()"
   ]
  },
  {
   "cell_type": "code",
   "execution_count": null,
   "id": "8eaafccc",
   "metadata": {},
   "outputs": [],
   "source": [
    "# We will combine our three scatter plot code blocks in one Jupyter Notebook cell.\n",
    "# Add the scatter charts for each type of city.\n",
    "\n",
    "# Increase the plot size.\n",
    "plt.subplots(figsize=(10,6))\n",
    "\n",
    "\n",
    "plt.scatter(urban_rides_count, urban_cities_fares, s=urban_driver_count*10, color=\"coral\", \n",
    "            alpha=0.8, linewidth=1, edgecolor=\"black\", label=\"Urban\")\n",
    "\n",
    "plt.scatter(suburban_rides_count, suburban_cities_fares, s=suburban_driver_count*10, color=\"skyblue\", \n",
    "            alpha=0.8, linewidth=1, edgecolor=\"black\", label=\"Suburban\")\n",
    "\n",
    "plt.scatter(rural_rides_count, rural_cities_fares, s=rural_driver_count*10, color=\"gold\", \n",
    "            alpha=0.8, linewidth=1, edgecolor=\"black\", label=\"Rural\")\n",
    "\n",
    "# Incorporate the other graph properties\n",
    "plt.title(\"PyBer Ride-Sharing Data (2019)\", fontsize=20)\n",
    "plt.ylabel(\"Average Fare ($)\", fontsize=12)\n",
    "plt.xlabel(\"Total Number of Rides (Per City)\", fontsize=12)\n",
    "plt.grid(True)\n",
    "\n",
    "# Create the legend\n",
    "lgnd = plt.legend(fontsize=12, title=\"City Types\", loc=\"best\", mode=\"Expanded\", scatterpoints=1)\n",
    "lgnd.legendHandles[0]._sizes = [75]\n",
    "lgnd.legendHandles[1]._sizes = [75]\n",
    "lgnd.legendHandles[2]._sizes = [75]\n",
    "lgnd.get_title().set_fontsize(12)\n",
    "\n",
    "# Incorporate a text label about circle size.\n",
    "plt.text(42, 35, \"Note: Circle size correlates with driver count per city.\", fontsize=12)\n",
    "\n",
    "# Save the plot\n",
    "plt.savefig(\"Analysis/BubbleChart.png\")\n",
    "\n",
    "\n",
    "# Show the plot\n",
    "plt.show()"
   ]
  },
  {
   "cell_type": "markdown",
   "id": "3423e49f",
   "metadata": {},
   "source": [
    "## Summary Statistics for Number of Rides by City Type"
   ]
  },
  {
   "cell_type": "code",
   "execution_count": null,
   "id": "9c79cd39",
   "metadata": {},
   "outputs": [],
   "source": [
    "# Pandas describe() function\n",
    "pyber_data_df.describe()"
   ]
  },
  {
   "cell_type": "code",
   "execution_count": null,
   "id": "e7cb2bb1",
   "metadata": {},
   "outputs": [],
   "source": [
    "# Get Summary Statistics.\n",
    "# Let's use the describe() function on the urban, suburban, and rural DataFrames.\n",
    "urban_city_df.describe()"
   ]
  },
  {
   "cell_type": "code",
   "execution_count": null,
   "id": "7501e548",
   "metadata": {},
   "outputs": [],
   "source": [
    "suburban_city_df.describe()"
   ]
  },
  {
   "cell_type": "code",
   "execution_count": null,
   "id": "00eb6658",
   "metadata": {},
   "outputs": [],
   "source": [
    "rural_city_df.describe()"
   ]
  },
  {
   "cell_type": "code",
   "execution_count": null,
   "id": "9a4e2f69",
   "metadata": {},
   "outputs": [],
   "source": [
    "urban_rides_count.describe()"
   ]
  },
  {
   "cell_type": "code",
   "execution_count": null,
   "id": "86bed3f2",
   "metadata": {},
   "outputs": [],
   "source": [
    "suburban_rides_count.describe()"
   ]
  },
  {
   "cell_type": "code",
   "execution_count": null,
   "id": "d2eccad1",
   "metadata": {},
   "outputs": [],
   "source": [
    "rural_rides_count.describe()"
   ]
  },
  {
   "cell_type": "code",
   "execution_count": null,
   "id": "9f7ff15b",
   "metadata": {},
   "outputs": [],
   "source": [
    "# Pandas mean(), median(), and mode() Methods\n",
    "# Calculate the mean of the ride count for each city type.\n",
    "round(urban_rides_count.mean(),2), round(suburban_rides_count.mean(),2), round(rural_rides_count.mean(),2)"
   ]
  },
  {
   "cell_type": "code",
   "execution_count": null,
   "id": "3cb5fa4e",
   "metadata": {},
   "outputs": [],
   "source": [
    "# Calculate the median of the ride count for each city type.\n",
    "round(urban_rides_count.median(),2), round(suburban_rides_count.median(),2), round(rural_rides_count.median(),2)"
   ]
  },
  {
   "cell_type": "code",
   "execution_count": null,
   "id": "6385f591",
   "metadata": {},
   "outputs": [],
   "source": [
    "# Calculate the mode of the ride count for the urban cities.\n",
    "urban_rides_count.mode()"
   ]
  },
  {
   "cell_type": "code",
   "execution_count": null,
   "id": "dc4570fb",
   "metadata": {},
   "outputs": [],
   "source": [
    "# Calculate the mode of the ride count for the suburban cities.\n",
    "suburban_rides_count.mode()"
   ]
  },
  {
   "cell_type": "code",
   "execution_count": null,
   "id": "b00c5be8",
   "metadata": {},
   "outputs": [],
   "source": [
    "# Calculate the mode of the ride count for the rural cities.\n",
    "rural_rides_count.mode()"
   ]
  },
  {
   "cell_type": "code",
   "execution_count": null,
   "id": "dbacc8e2",
   "metadata": {},
   "outputs": [],
   "source": [
    "# NumPy mean() and median() Functions and SciPy mode() Function\n",
    "# import stats module from SciPy\n",
    "import scipy.stats as sts"
   ]
  },
  {
   "cell_type": "code",
   "execution_count": null,
   "id": "340f1d23",
   "metadata": {},
   "outputs": [],
   "source": [
    "urban_rides_mean = round(np.mean(urban_rides_count),2)\n",
    "urban_rides_median = round(np.median(urban_rides_count),2)\n",
    "\n",
    "# Unlike the Pandas mode() method, the sts.mode() method \n",
    "# will return the number of times the mode appears in the dataset\n",
    "urban_rides_mode = sts.mode(urban_rides_count)\n",
    "print(f\"The mode for the ride counts for urban trips is {urban_rides_mode}.\")\n",
    "\n",
    "print(urban_rides_mean, urban_rides_median)"
   ]
  },
  {
   "cell_type": "code",
   "execution_count": null,
   "id": "020ec3cd",
   "metadata": {
    "scrolled": true
   },
   "outputs": [],
   "source": [
    "suburban_rides_mean = round(np.mean(suburban_rides_count),2)\n",
    "suburban_rides_median = round(np.median(suburban_rides_count),2)\n",
    "\n",
    "suburban_rides_mode = sts.mode(suburban_rides_count)\n",
    "print(f\"The mode for the ride counts for suburban trips is {suburban_rides_mode}.\")\n",
    "\n",
    "print(suburban_rides_mean, suburban_rides_median)"
   ]
  },
  {
   "cell_type": "code",
   "execution_count": null,
   "id": "687ce1d7",
   "metadata": {},
   "outputs": [],
   "source": [
    "rural_rides_mean = round(np.mean(rural_rides_count),2)\n",
    "rural_rides_median = round(np.median(rural_rides_count),2)\n",
    "\n",
    "rural_rides_mode = sts.mode(rural_rides_count)\n",
    "print(f\"The mode for the ride counts for urban trips is {rural_rides_mode}.\")\n",
    "print(rural_rides_mean, rural_rides_median)"
   ]
  },
  {
   "cell_type": "markdown",
   "id": "3cf0b578",
   "metadata": {},
   "source": [
    "## Summary Statistics for the Fare by City Type"
   ]
  },
  {
   "cell_type": "code",
   "execution_count": null,
   "id": "f437a912",
   "metadata": {},
   "outputs": [],
   "source": [
    "# Get the fares from urban city type\n",
    "urban_fares = urban_city_df[\"fare\"]\n",
    "urban_fares"
   ]
  },
  {
   "cell_type": "code",
   "execution_count": null,
   "id": "7f654bee",
   "metadata": {},
   "outputs": [],
   "source": [
    "# Calculate mean(), median() and mode() for ride fares in each city type\n",
    "urban_fare_mean = round(np.mean(urban_fares),2)\n",
    "urban_fare_median = round(np.median(urban_fares),2)\n",
    "urban_fare_mode = sts.mode(urban_fares)\n",
    "\n",
    "print(f\"The mean : ${urban_fare_mean}\", \n",
    "      f\"The median : ${urban_fare_median}, The mode : {urban_fare_mode}\")"
   ]
  },
  {
   "cell_type": "code",
   "execution_count": null,
   "id": "a8c98105",
   "metadata": {},
   "outputs": [],
   "source": [
    "# Get the fares from suburban city type\n",
    "suburban_fares = suburban_city_df[\"fare\"]\n",
    "suburban_fares"
   ]
  },
  {
   "cell_type": "code",
   "execution_count": null,
   "id": "48830b59",
   "metadata": {},
   "outputs": [],
   "source": [
    "# Calculate mean(), median() and mode() for ride fares in each city type\n",
    "suburban_fare_mean = round(np.mean(suburban_fares),2)\n",
    "suburban_fare_median = round(np.median(suburban_fares),2)\n",
    "suburban_fare_mode = sts.mode(suburban_fares)\n",
    "\n",
    "print(f\"The mean : ${suburban_fare_mean}\", \n",
    "      f\"The median : ${suburban_fare_median}, The mode : {suburban_fare_mode}\")"
   ]
  },
  {
   "cell_type": "code",
   "execution_count": null,
   "id": "89cc4701",
   "metadata": {},
   "outputs": [],
   "source": [
    "# Get the fares from rural city type\n",
    "rural_fares = rural_city_df[\"fare\"]\n",
    "rural_fares"
   ]
  },
  {
   "cell_type": "code",
   "execution_count": null,
   "id": "08518193",
   "metadata": {},
   "outputs": [],
   "source": [
    "# Calculate mean(), median() and mode() for ride fares in each city type\n",
    "rural_fare_mean = round(np.mean(rural_fares),2)\n",
    "rural_fare_median = round(np.median(rural_fares),2)\n",
    "rural_fare_mode = sts.mode(rural_fares)\n",
    "\n",
    "print(f\"The mean : ${rural_fare_mean}\", \n",
    "      f\"The median : ${rural_fare_median}, The mode : {rural_fare_mode}\")"
   ]
  },
  {
   "cell_type": "markdown",
   "id": "4cc7da31",
   "metadata": {},
   "source": [
    "## Summary Statistics for the Number of Drivers by City Type"
   ]
  },
  {
   "cell_type": "code",
   "execution_count": null,
   "id": "fe99c092",
   "metadata": {},
   "outputs": [],
   "source": [
    "# Get the drivers count from urban city type\n",
    "urban_drivers = urban_city_df[\"driver_count\"]\n",
    "urban_drivers"
   ]
  },
  {
   "cell_type": "code",
   "execution_count": null,
   "id": "f5ed21f8",
   "metadata": {},
   "outputs": [],
   "source": [
    "# Calculate mean(), median() and mode() for drivers count in each city type\n",
    "urban_fare_mean = round(np.mean(urban_drivers),2)\n",
    "urban_fare_median = round(np.median(urban_drivers),2)\n",
    "urban_fare_mode = sts.mode(urban_drivers)\n",
    "\n",
    "print(f\"The mean : ${urban_fare_mean}\", \n",
    "      f\"The median : ${urban_fare_median}, The mode : {urban_fare_mode}\")"
   ]
  },
  {
   "cell_type": "code",
   "execution_count": null,
   "id": "5b02201c",
   "metadata": {},
   "outputs": [],
   "source": [
    "# Get the drivers count from suburban city type\n",
    "suburban_drivers = suburban_city_df[\"driver_count\"]\n",
    "suburban_drivers"
   ]
  },
  {
   "cell_type": "code",
   "execution_count": null,
   "id": "1f3ef836",
   "metadata": {
    "scrolled": true
   },
   "outputs": [],
   "source": [
    "# Calculate mean(), median() and mode() for drivers count in each city type\n",
    "suburban_fare_mean = round(np.mean(suburban_drivers),2)\n",
    "suburban_fare_median = round(np.median(suburban_drivers),2)\n",
    "suburban_fare_mode = sts.mode(suburban_drivers)\n",
    "\n",
    "print(f\"The mean : ${suburban_fare_mean}\", \n",
    "      f\"The median : ${suburban_fare_median}, The mode : {suburban_fare_mode}\")"
   ]
  },
  {
   "cell_type": "code",
   "execution_count": null,
   "id": "326ff4d0",
   "metadata": {},
   "outputs": [],
   "source": [
    "# Get the drivers count from rural city type\n",
    "rural_drivers = rural_city_df[\"driver_count\"]\n",
    "rural_drivers"
   ]
  },
  {
   "cell_type": "code",
   "execution_count": null,
   "id": "1e79176d",
   "metadata": {},
   "outputs": [],
   "source": [
    "# Calculate mean(), median() and mode() for drivers count in each city type\n",
    "rural_fare_mean = round(np.mean(rural_drivers),2)\n",
    "rural_fare_median = round(np.median(rural_drivers),2)\n",
    "rural_fare_mode = sts.mode(rural_drivers)\n",
    "\n",
    "print(f\"The mean : ${rural_fare_mean}\", \n",
    "      f\"The median : ${rural_fare_median}, The mode : {rural_fare_mode}\")"
   ]
  },
  {
   "cell_type": "markdown",
   "id": "d91aeca6",
   "metadata": {},
   "source": [
    "# Create a box-and-whisker plot\n",
    "### Box-and-whisker plots are an effective way to show a lot of information about distribution in a small amount of space, especially outliers"
   ]
  },
  {
   "cell_type": "code",
   "execution_count": null,
   "id": "01ff0bb6",
   "metadata": {},
   "outputs": [],
   "source": [
    "# Create our urban_ride_count box-and-whisker plot\n",
    "fig, ax = plt.subplots()\n",
    "\n",
    "x_labels = [\"Urban\"]\n",
    "ax.boxplot(urban_rides_count, labels=x_labels)\n",
    "\n",
    "# Add labels\n",
    "ax.set_title(\"Ride Count Data (2019)\")\n",
    "ax.set_ylabel(\"Number of Rides\")\n",
    "ax.set_yticks(np.arange(10,41,2))\n",
    "ax.grid()\n",
    "plt.show()"
   ]
  },
  {
   "cell_type": "code",
   "execution_count": null,
   "id": "dc1b71be",
   "metadata": {},
   "outputs": [],
   "source": [
    "# Create our suburban_ride_count box-and-whisker plot\n",
    "fig, ax = plt.subplots()\n",
    "\n",
    "x_labels = [\"Suburban\"]\n",
    "ax.boxplot(suburban_rides_count, labels=x_labels)\n",
    "\n",
    "# Add labels\n",
    "ax.set_title(\"Ride Count Data (2019)\")\n",
    "ax.set_ylabel(\"Number of Rides\")\n",
    "ax.set_yticks(np.arange(10,31,2))\n",
    "plt.grid()\n",
    "plt.show()\n"
   ]
  },
  {
   "cell_type": "code",
   "execution_count": null,
   "id": "cdbe0bf8",
   "metadata": {},
   "outputs": [],
   "source": [
    "# Create our rural_ride_count box-and-whisker plot\n",
    "fig, ax = plt.subplots()\n",
    "\n",
    "x_labels = [\"Rural\"]\n",
    "ax.boxplot(rural_rides_count, labels=x_labels)\n",
    "\n",
    "# Add labels\n",
    "ax.set_title(\"Ride Count Data (2019)\")\n",
    "ax.set_ylabel(\"Number of Rides\")\n",
    "#ax.set_yticks(np.arange(10,31,2))\n",
    "plt.grid()\n",
    "plt.show()\n"
   ]
  },
  {
   "cell_type": "code",
   "execution_count": null,
   "id": "4dd337ac",
   "metadata": {},
   "outputs": [],
   "source": [
    "# Add all ride count box-and-whisker plots to the same graph.\n",
    "fig, ax = plt.subplots(figsize=(10,6))\n",
    "\n",
    "x_labels = [\"Urban\", \"Suburban\", \"Rural\"]\n",
    "ride_count_data = [urban_rides_count, suburban_rides_count, rural_rides_count]\n",
    "\n",
    "ax.boxplot(ride_count_data, labels=x_labels)\n",
    "\n",
    "# Add labels\n",
    "ax.set_title(\"Ride Count Data (2019)\")\n",
    "ax.set_ylabel(\"Number of Rides\")\n",
    "ax.set_xlabel(\"City Types\")\n",
    "ax.grid()\n",
    "\n",
    "# Save the figure.\n",
    "plt.savefig(\"Analysis/Boxandwhiskers.png\")\n",
    "\n",
    "plt.show()"
   ]
  },
  {
   "cell_type": "code",
   "execution_count": null,
   "id": "9f8342dc",
   "metadata": {},
   "outputs": [],
   "source": [
    "# One of our tasks was to find out if there were any outliers. \n",
    "# We know that the outlier for the urban_ride_count is 39. \n",
    "# From this information, we can find out which city has the highest rider count.\n",
    "\n",
    "urban_rides_count"
   ]
  },
  {
   "cell_type": "code",
   "execution_count": null,
   "id": "06dee9a8",
   "metadata": {},
   "outputs": [],
   "source": [
    "# Get the city that matches 39.\n",
    "urban_city_outlier = urban_rides_count[urban_rides_count==39].index[0]\n",
    "print(f\"{urban_city_outlier} has the highest rider count.\")"
   ]
  },
  {
   "cell_type": "code",
   "execution_count": null,
   "id": "74fece28",
   "metadata": {},
   "outputs": [],
   "source": [
    "# Create our urban_fares_count box-and-whisker plot\n",
    "fig, ax = plt.subplots()\n",
    "\n",
    "x_labels = [\"Urban\"]\n",
    "ax.boxplot(urban_fares, labels=x_labels)\n",
    "\n",
    "# Add the title, y-axis label and grid.\n",
    "ax.set_title('Ride Fare Data (2019)')\n",
    "ax.set_ylabel('Fare($USD)')\n",
    "ax.set_yticks(np.arange(0, 51, step=5.0))\n",
    "\n",
    "ax.grid()\n",
    "plt.show()\n",
    "\n",
    "print(\"Summary Statistics\")\n",
    "urban_fares.describe()"
   ]
  },
  {
   "cell_type": "code",
   "execution_count": null,
   "id": "76073c6f",
   "metadata": {},
   "outputs": [],
   "source": [
    "# Create our suburban_fares_count box-and-whisker plot\n",
    "fig, ax = plt.subplots()\n",
    "\n",
    "x_labels = [\"Suburban\"]\n",
    "ax.boxplot(suburban_fares, labels=x_labels)\n",
    "\n",
    "# Add the title, y-axis label and grid.\n",
    "ax.set_title('Ride Fare Data (2019)')\n",
    "ax.set_ylabel('Fare($USD)')\n",
    "ax.set_yticks(np.arange(0, 51, step=5.0))\n",
    "\n",
    "ax.grid()\n",
    "plt.show()\n",
    "\n",
    "print(\"Summary Statistics\")\n",
    "suburban_fares.describe()"
   ]
  },
  {
   "cell_type": "code",
   "execution_count": null,
   "id": "98bf0620",
   "metadata": {},
   "outputs": [],
   "source": [
    "# Create our rural_fares_count box-and-whisker plot\n",
    "fig, ax = plt.subplots()\n",
    "\n",
    "x_labels = [\"Rural\"]\n",
    "ax.boxplot(rural_fares, labels=x_labels)\n",
    "\n",
    "# Add the title, y-axis label and grid.\n",
    "ax.set_title('Ride Fare Data (2019)')\n",
    "ax.set_ylabel('Fare($USD)')\n",
    "ax.set_yticks(np.arange(0, 61, step=5.0))\n",
    "\n",
    "ax.grid()\n",
    "plt.show()\n",
    "\n",
    "print(\"Summary Statistics\")\n",
    "rural_fares.describe()"
   ]
  },
  {
   "cell_type": "code",
   "execution_count": null,
   "id": "9266cd2b",
   "metadata": {},
   "outputs": [],
   "source": [
    "# Add all ride count box-and-whisker plots to the same graph.\n",
    "fig, ax = plt.subplots(figsize=(10,6))\n",
    "\n",
    "x_labels = [\"Urban\", \"Suburban\", \"Rural\"]\n",
    "fares_count_data = [urban_fares, suburban_fares, rural_fares]\n",
    "\n",
    "ax.boxplot(fares_count_data, labels=x_labels)\n",
    "\n",
    "# Add labels\n",
    "ax.set_title(\"Ride Fare Data (2019)\")\n",
    "ax.set_ylabel(\"Fare($USD)\")\n",
    "ax.set_xlabel(\"City Types\")\n",
    "ax.grid()\n",
    "\n",
    "# Save the figure.\n",
    "plt.savefig(\"Analysis/Boxandwhiskers2.png\")\n",
    "\n",
    "plt.show()"
   ]
  },
  {
   "cell_type": "code",
   "execution_count": 173,
   "id": "0a1a566a",
   "metadata": {},
   "outputs": [
    {
     "data": {
      "image/png": "[encoded data removed]",
      "text/plain": [
       "<Figure size 720x432 with 1 Axes>"
      ]
     },
     "metadata": {
      "needs_background": "light"
     },
     "output_type": "display_data"
    }
   ],
   "source": [
    "# Add all driver count box-and-whisker plots to the same graph.\n",
    "fig, ax = plt.subplots(figsize=(10,6))\n",
    "\n",
    "x_labels = [\"Urban\", \"Suburban\", \"Rural\"]\n",
    "driver_count_data = [urban_drivers, suburban_drivers, rural_drivers]\n",
    "\n",
    "ax.boxplot(driver_count_data, labels=x_labels)\n",
    "\n",
    "# Add labels\n",
    "ax.set_title(\"Ride Driver Data (2019)\")\n",
    "ax.set_ylabel(\"Number of Drivers\")\n",
    "ax.set_xlabel(\"City Types\")\n",
    "ax.grid()\n",
    "\n",
    "# Save the figure.\n",
    "plt.savefig(\"Analysis/Boxandwhiskers3.png\")\n",
    "\n",
    "plt.show()\n"
   ]
  },
  {
   "cell_type": "code",
   "execution_count": null,
   "id": "2ce4abdf",
   "metadata": {},
   "outputs": [],
   "source": []
  }
 ],
 "metadata": {
  "kernelspec": {
   "display_name": "PythonData",
   "language": "python",
   "name": "pythondata"
  },
  "language_info": {
   "codemirror_mode": {
    "name": "ipython",
    "version": 3
   },
   "file_extension": ".py",
   "mimetype": "text/x-python",
   "name": "python",
   "nbconvert_exporter": "python",
   "pygments_lexer": "ipython3",
   "version": "3.7.13"
  }
 },
 "nbformat": 4,
 "nbformat_minor": 5
}
